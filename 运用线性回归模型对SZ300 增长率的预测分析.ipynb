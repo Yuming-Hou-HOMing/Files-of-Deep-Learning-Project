{
 "cells": [
  {
   "metadata": {},
   "cell_type": "markdown",
   "source": [
    "**Use a linear regression model to predict the growth rate of stocks.**\n",
    "--------------"
   ],
   "id": "7d874578da4beaa"
  },
  {
   "metadata": {},
   "cell_type": "markdown",
   "source": "**preparatory work**",
   "id": "324f6b236e9fa39e"
  },
  {
   "metadata": {},
   "cell_type": "markdown",
   "source": "引入所有插件，调入所有需要的包",
   "id": "45393c16e815d389"
  },
  {
   "metadata": {
    "collapsed": true
   },
   "cell_type": "code",
   "outputs": [],
   "execution_count": null,
   "source": [
    "import numpy as np\n",
    "import pandas as pd\n",
    "from sklearn.model_selection import train_test_split\n",
    "from sklearn import preprocessing\n",
    "from sklearn.linear_model import LinearRegression\n",
    "from sklearn.metrics import r2_score"
   ],
   "id": "initial_id"
  },
  {
   "metadata": {},
   "cell_type": "markdown",
   "source": "通过调用pandas库读取数据并进行可视化",
   "id": "59036d25def3efd6"
  },
  {
   "metadata": {
    "ExecuteTime": {
     "end_time": "2025-04-10T13:19:33.870658Z",
     "start_time": "2025-04-10T13:19:33.844396Z"
    }
   },
   "cell_type": "code",
   "outputs": [
    {
     "name": "stdout",
     "output_type": "stream",
     "text": [
      "          P1      P2      P3      P4      P5      P6      P7  target\n",
      "0     0.0031  0.0160  0.0339  0.0328  0.0424  0.0243  0.8410  0.0564\n",
      "1     0.0038  0.0112  0.0246  0.0185  0.0256  0.0164  0.7555  0.0294\n",
      "2     0.0035  0.0100  0.0250  0.0233  0.0241  0.0204  0.6224  0.0324\n",
      "3     0.0032  0.0094  0.0261  0.0138  0.0202  0.0227  0.8254  0.0184\n",
      "4     0.0030  0.0089  0.0268  0.0092  0.0274  0.0143  0.8804  0.0128\n",
      "...      ...     ...     ...     ...     ...     ...     ...     ...\n",
      "2897  0.9891  0.4469  0.7746  0.0320  0.8551  0.9562  0.8982  0.0888\n",
      "2898  0.9792  0.3084  0.7067  0.0200  0.7452  0.9620  0.8428  0.0510\n",
      "2899  0.9968  0.3335  0.5972  0.0137  0.8627  0.9176  0.9456  0.0722\n",
      "2900  0.9795  0.7115  0.7785  0.0110  0.7572  0.8324  0.9645  0.0469\n",
      "2901  0.9413  0.8330  0.8261  0.0089  0.6512  0.7858  0.9399  0.1365\n",
      "\n",
      "[2902 rows x 8 columns]\n",
      "(2902, 8)\n"
     ]
    }
   ],
   "execution_count": 4,
   "source": [
    "import pandas as pd\n",
    "data = pd.read_csv('1F_SZ300.csv')\n",
    "print(data)\n",
    "print(data.shape)"
   ],
   "id": "556a5a51e3e4252e"
  },
  {
   "metadata": {},
   "cell_type": "markdown",
   "source": "转化数据为array的形式",
   "id": "dd59a0dc487f8970"
  },
  {
   "metadata": {
    "ExecuteTime": {
     "end_time": "2025-04-10T13:22:31.298261Z",
     "start_time": "2025-04-10T13:22:31.287491Z"
    }
   },
   "cell_type": "code",
   "outputs": [
    {
     "data": {
      "text/plain": [
       "array([[0.0031, 0.016 , 0.0339, ..., 0.0243, 0.841 , 0.0564],\n",
       "       [0.0038, 0.0112, 0.0246, ..., 0.0164, 0.7555, 0.0294],\n",
       "       [0.0035, 0.01  , 0.025 , ..., 0.0204, 0.6224, 0.0324],\n",
       "       ...,\n",
       "       [0.9968, 0.3335, 0.5972, ..., 0.9176, 0.9456, 0.0722],\n",
       "       [0.9795, 0.7115, 0.7785, ..., 0.8324, 0.9645, 0.0469],\n",
       "       [0.9413, 0.833 , 0.8261, ..., 0.7858, 0.9399, 0.1365]])"
      ]
     },
     "execution_count": 7,
     "metadata": {},
     "output_type": "execute_result"
    }
   ],
   "execution_count": 7,
   "source": [
    "import numpy as np\n",
    "np.array(data)"
   ],
   "id": "9e0a874f407da04"
  },
  {
   "metadata": {},
   "cell_type": "markdown",
   "source": "索引出X和Y对应的列，并查看数据矩阵形状",
   "id": "51532b8e6920f7be"
  },
  {
   "metadata": {
    "ExecuteTime": {
     "end_time": "2025-04-10T13:46:37.167304Z",
     "start_time": "2025-04-10T13:46:37.161783Z"
    }
   },
   "cell_type": "code",
   "outputs": [
    {
     "name": "stdout",
     "output_type": "stream",
     "text": [
      "(2902, 7)\n",
      "(2902, 1)\n"
     ]
    }
   ],
   "execution_count": 27,
   "source": [
    "x.shape=data.values[:,0:7].shape\n",
    "y.shape=data.values[:,7:].shape\n",
    "print(x.shape)\n",
    "print(y.shape)"
   ],
   "id": "88f4b99efbbff691"
  },
  {
   "metadata": {},
   "cell_type": "markdown",
   "source": [
    "**Complete version code:**\n",
    "---"
   ],
   "id": "7b470ac548a3254e"
  },
  {
   "metadata": {
    "ExecuteTime": {
     "end_time": "2025-04-10T13:44:55.884366Z",
     "start_time": "2025-04-10T13:44:55.866023Z"
    }
   },
   "cell_type": "code",
   "source": [
    "#引入所有需要的包\n",
    "from sklearn.model_selection import train_test_split\n",
    "from sklearn import preprocessing\n",
    "from sklearn.linear_model import LinearRegression\n",
    "from sklearn.metrics import r2_score\n",
    "\n",
    "#定义min_max_scaler对象\n",
    "min_max_scaler = preprocessing.MinMaxScaler()\n",
    "#从表格里取出相应需要的数值\n",
    "x = data.values[:,0:7]\n",
    "y = data.values[:,7:]\n",
    "\n",
    "#分别对训练集和测试集进行归一化处理\n",
    "X_train,X_test,y_train,y_test = train_test_split(x,y,test_size=0.2,random_state=0)\n",
    "X_train=min_max_scaler.fit_transform(X_train)\n",
    "X_test=min_max_scaler.fit_transform(X_test)\n",
    "y_train=min_max_scaler.fit_transform(y_train)\n",
    "y_test=min_max_scaler.fit_transform(y_test)\n",
    "\n",
    "#使用线性回归模型\n",
    "lr = LinearRegression()\n",
    "lr.fit(X_train,y_train)\n",
    "prediction=lr.predict(X_test)\n",
    "\n",
    "#使用R2_score评估模型学习情况\n",
    "r2_score(y_test,prediction)\n",
    "print(r2_score(y_test,prediction))\n"
   ],
   "id": "be2ae19840850062",
   "outputs": [
    {
     "name": "stdout",
     "output_type": "stream",
     "text": [
      "0.784427324350466\n"
     ]
    }
   ],
   "execution_count": 26
  }
 ],
 "metadata": {
  "kernelspec": {
   "display_name": "Python 3",
   "language": "python",
   "name": "python3"
  },
  "language_info": {
   "codemirror_mode": {
    "name": "ipython",
    "version": 2
   },
   "file_extension": ".py",
   "mimetype": "text/x-python",
   "name": "python",
   "nbconvert_exporter": "python",
   "pygments_lexer": "ipython2",
   "version": "2.7.6"
  }
 },
 "nbformat": 4,
 "nbformat_minor": 5
}
