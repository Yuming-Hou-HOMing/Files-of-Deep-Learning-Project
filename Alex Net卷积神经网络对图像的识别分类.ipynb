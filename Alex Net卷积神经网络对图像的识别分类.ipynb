{
 "cells": [
  {
   "metadata": {},
   "cell_type": "markdown",
   "source": [
    "**Image recognition and classification by AlexNet convolutional neural network**\n",
    "---\n",
    "---"
   ],
   "id": "1007085b4bca9418"
  },
  {
   "metadata": {},
   "cell_type": "markdown",
   "source": [
    "**Complete version code:**\n",
    "---"
   ],
   "id": "24197330754fe73a"
  },
  {
   "metadata": {
    "collapsed": true
   },
   "cell_type": "code",
   "outputs": [],
   "execution_count": null,
   "source": [
    "import torch\n",
    "import torch.nn as nn\n",
    "\n",
    "class AlexNet(nn.Module):\n",
    "    \"\"\" AlexNet 深层卷积神经网络 \"\"\"\n",
    "    def __init__(self):\n",
    "        super().__init__()\n",
    "        # 卷积层\n",
    "        self.conv = nn.Sequential(nn.Conv2d(1, 96, kernel_size=11, stride=4, padding=1),\n",
    "                                  nn.ReLU(),\n",
    "                                  nn.MaxPool2d(kernel_size=3, stride=2),\n",
    "\n",
    "                                  nn.Conv2d(96, 256, kernel_size=5, padding=2),\n",
    "                                  nn.ReLU(),\n",
    "                                  nn.MaxPool2d(kernel_size=3, stride=2),\n",
    "\n",
    "                                  # 使用3个连续的 3x3 卷积层\n",
    "                                  nn.Conv2d(256, 384, kernel_size=3, padding=1),\n",
    "                                  nn.ReLU(),\n",
    "                                  nn.Conv2d(384, 384, kernel_size=3, padding=1),\n",
    "                                  nn.ReLU(),\n",
    "                                  nn.Conv2d(384, 256, kernel_size=3, padding=1),\n",
    "                                  nn.ReLU(),\n",
    "                                  nn.MaxPool2d(kernel_size=3, stride=2),\n",
    "\n",
    "                                  nn.Flatten())\n",
    "\n",
    "        self.fc = nn.Sequential(nn.Linear(5*5*256, 4096),\n",
    "                                nn.ReLU(),\n",
    "                                nn.Linear(4096, 4096),\n",
    "                                nn.ReLU(),\n",
    "                                nn.Linear(4096, 10))\n",
    "\n",
    "    def forward(self, x):\n",
    "        \"\"\" 前向传播方法 \"\"\"\n",
    "        x_flatten = self.conv(x)\n",
    "        return self.fc(x_flatten)"
   ],
   "id": "initial_id"
  },
  {
   "metadata": {},
   "cell_type": "code",
   "outputs": [],
   "execution_count": null,
   "source": [
    "import torchvision\n",
    "import torchvision.transforms as transforms\n",
    "from torch.utils import data\n",
    "from torch.utils.data import DataLoader\n",
    "\n",
    "trans = transforms.Compose([transforms.ToTensor(),\n",
    "                            transforms.Resize((224, 224))])\n",
    "\n",
    "mnist_train = torchvision.datasets.FashionMNIST(root=\"../data\", train=True, transform=trans, download=True)\n",
    "mnist_test = torchvision.datasets.FashionMNIST(root=\"../data\", train=False, transform=trans, download=True)\n",
    "\n",
    "len(mnist_train), len(mnist_test)\n",
    "train_dataloader = DataLoader(mnist_train, batch_size=256, shuffle=True)\n",
    "test_dataloader = DataLoader(mnist_test, batch_size=256, shuffle=False)\n",
    "\n",
    "len(train_dataloader), len(test_dataloader)"
   ],
   "id": "3ead0c0813782673"
  },
  {
   "metadata": {},
   "cell_type": "code",
   "outputs": [],
   "execution_count": null,
   "source": [
    "device = torch.device(\"cuda\") if torch.cuda.is_available() else torch.device(\"cpu\")\n",
    "device"
   ],
   "id": "8f27d13d89e09646"
  },
  {
   "metadata": {},
   "cell_type": "code",
   "outputs": [],
   "execution_count": null,
   "source": [
    "model_AlexNet = AlexNet().to(device)\n",
    "model_AlexNet"
   ],
   "id": "14deb2d37a7f465d"
  },
  {
   "metadata": {},
   "cell_type": "code",
   "outputs": [],
   "execution_count": null,
   "source": [
    "def count_parameters(model_AlexNet: nn.Module):\n",
    "    \"\"\" 计算模型参数量函数 \"\"\"\n",
    "    return sum(p.numel() for p in model_AlexNet.parameters())\n",
    "\n",
    "\n",
    "count_parameters(model_AlexNet)"
   ],
   "id": "f672ecab08bf1b9c"
  },
  {
   "metadata": {},
   "cell_type": "code",
   "outputs": [],
   "execution_count": null,
   "source": [
    "x, y = next(iter(train_dataloader))\n",
    "x.shape, y.shape"
   ],
   "id": "161056b14c549b8a"
  },
  {
   "metadata": {},
   "cell_type": "code",
   "outputs": [],
   "execution_count": null,
   "source": [
    "def train_model(model_AlexNet, train_dataloader, loss_func, optimizer):\n",
    "    \"\"\" 模型训练函数 \"\"\"\n",
    "    model_AlexNet.train()\n",
    "    total_loss = 0.\n",
    "    for x, y in train_dataloader:\n",
    "        # x: [bs, 1, 224, 224]\n",
    "        # y: [batch_size]\n",
    "        y_hat = model_AlexNet(x.to(device))\n",
    "        loss = loss_func(y_hat, y.to(device))\n",
    "\n",
    "        optimizer.zero_grad()\n",
    "        loss.backward()\n",
    "        optimizer.step()\n",
    "\n",
    "        total_loss += loss.item()\n",
    "    return total_loss / len(train_dataloader)\n",
    "\n",
    "def test_model(model_AlexNet, test_dataloader, loss_func):\n",
    "    \"\"\" 模型测试函数 \"\"\"\n",
    "    model_AlexNet.eval()\n",
    "\n",
    "    y_true = 0\n",
    "    total_loss = 0.\n",
    "    for x, y in test_dataloader:\n",
    "        # x: [bs, 1, 224, 224]\n",
    "        # y: [batch_size]\n",
    "        y_hat = model_AlexNet(x.to(device))\n",
    "        loss = loss_func(y_hat, y.to(device))\n",
    "\n",
    "        y_true += (y == torch.argmax(y_hat, dim=-1)).sum().item()   #很重要的一步，原理是是布尔值求和，True=1,False=0\n",
    "\n",
    "        total_loss += loss.item()\n",
    "\n",
    "    avg_loss = total_loss / len(test_dataloader)\n",
    "    acc = round(y_true / len(test_dataloader.dataset), 3)  #round是四舍五入函数\n",
    "    return avg_loss, acc"
   ],
   "id": "9baf201c72d7d4da"
  },
  {
   "metadata": {},
   "cell_type": "code",
   "outputs": [],
   "execution_count": null,
   "source": [
    "model_AlexNet = AlexNet().to(device)\n",
    "loss_func = nn.CrossEntropyLoss()\n",
    "optimizer = torch.optim.Adam(model_AlexNet.parameters(), lr=1e-3)"
   ],
   "id": "f6302c9c7959b907"
  },
  {
   "metadata": {},
   "cell_type": "code",
   "outputs": [],
   "execution_count": null,
   "source": [
    "n_epoch = 5\n",
    "\n",
    "train_loss_list = []\n",
    "test_loss_list = []\n",
    "for i in range(n_epoch):\n",
    "    train_loss = train_model(model_AlexNet, train_dataloader, loss_func, optimizer)\n",
    "    test_loss, acc = test_model(model_AlexNet, test_dataloader, loss_func)\n",
    "\n",
    "    train_loss_list.append(train_loss)\n",
    "    test_loss_list.append(test_loss)\n",
    "    print(train_loss)"
   ],
   "id": "2d4867152f4c9295"
  },
  {
   "metadata": {},
   "cell_type": "code",
   "outputs": [],
   "execution_count": null,
   "source": [
    "import matplotlib.pyplot as plt\n",
    "import os\n",
    "os.environ['KMP_DUPLICATE_LIB_OK'] = 'True'\n",
    "\n",
    "plt.figure(figsize=(12, 8))\n",
    "plt.plot(train_loss_list, label=\"train loss\")\n",
    "plt.plot(test_loss_list, label=\"test loss\")\n",
    "plt.title(\"Model Loss\")\n",
    "plt.grid()\n",
    "plt.legend()\n",
    "plt.show()"
   ],
   "id": "525fffa657f01ee5"
  }
 ],
 "metadata": {
  "kernelspec": {
   "display_name": "Python 3",
   "language": "python",
   "name": "python3"
  },
  "language_info": {
   "codemirror_mode": {
    "name": "ipython",
    "version": 2
   },
   "file_extension": ".py",
   "mimetype": "text/x-python",
   "name": "python",
   "nbconvert_exporter": "python",
   "pygments_lexer": "ipython2",
   "version": "2.7.6"
  }
 },
 "nbformat": 4,
 "nbformat_minor": 5
}
