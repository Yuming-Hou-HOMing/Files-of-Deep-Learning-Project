{
 "cells": [
  {
   "metadata": {},
   "cell_type": "markdown",
   "source": "调用所有的库",
   "id": "f353c727930e9b8"
  },
  {
   "metadata": {
    "collapsed": true,
    "ExecuteTime": {
     "end_time": "2025-04-26T02:43:31.814556Z",
     "start_time": "2025-04-26T02:43:31.809944Z"
    }
   },
   "cell_type": "code",
   "source": [
    "import numpy as np\n",
    "import torch\n",
    "import torch.nn as nn\n",
    "import torch.nn.functional as F\n",
    "import time\n",
    "\n",
    "from sympy.tensor.array.arrayop import Flatten\n",
    "from torch.utils.data import DataLoader\n",
    "from torchvision import datasets, transforms\n",
    "device = torch.device(\"cuda\") if torch.cuda.is_available() else torch.device(\"cpu\")"
   ],
   "id": "initial_id",
   "outputs": [],
   "execution_count": 12
  },
  {
   "metadata": {
    "ExecuteTime": {
     "end_time": "2025-04-26T02:43:31.859553Z",
     "start_time": "2025-04-26T02:43:31.850178Z"
    }
   },
   "cell_type": "code",
   "source": [
    "def nin_block(in_channel, out_channel, kernel_size, stride, padding):\n",
    "    blk = nn.Sequential(nn.Conv2d(in_channel,out_channel,kernel_size,stride,padding),\n",
    "                        nn.ReLU(),\n",
    "                        nn.Conv2d(out_channel,out_channel,kernel_size=1),\n",
    "                        nn.ReLU(),\n",
    "                        nn.Conv2d(out_channel,out_channel,kernel_size=1),\n",
    "                        nn.ReLU())\n",
    "    return blk\n"
   ],
   "id": "abe0efcabb387094",
   "outputs": [],
   "execution_count": 13
  },
  {
   "metadata": {
    "ExecuteTime": {
     "end_time": "2025-04-26T02:43:31.908936Z",
     "start_time": "2025-04-26T02:43:31.897388Z"
    }
   },
   "cell_type": "code",
   "source": [
    "class GlobalAvgPool2d(nn.Module):\n",
    "    def __init__(self):\n",
    "        super(GlobalAvgPool2d, self).__init__()\n",
    "    def forward(self,x):\n",
    "        return F.avg_pool2d(x,kernel_size = x.size()[2:])"
   ],
   "id": "3f9e48f24df494fe",
   "outputs": [],
   "execution_count": 14
  },
  {
   "metadata": {
    "ExecuteTime": {
     "end_time": "2025-04-26T02:43:31.936247Z",
     "start_time": "2025-04-26T02:43:31.920143Z"
    }
   },
   "cell_type": "code",
   "source": [
    "net = nn.Sequential(nin_block(3,96,11,4,0),\n",
    "                    nn.MaxPool2d(kernel_size=2, stride=2),\n",
    "\n",
    "                    nin_block(96,256,5,1,2),\n",
    "                    nn.MaxPool2d(kernel_size=2, stride=2),\n",
    "\n",
    "                    nin_block(256,384,3,1,1),\n",
    "                    nn.MaxPool2d(kernel_size=2, stride=2),\n",
    "\n",
    "                    nin_block(384,10,3,1,1),\n",
    "\n",
    "                    GlobalAvgPool2d(),#把四维的输出转换为二维形状 shape = （batch_size,10(标签数量))\n",
    "\n",
    "                    nn.Flatten())"
   ],
   "id": "e7e99be1619ae11b",
   "outputs": [],
   "execution_count": 15
  },
  {
   "metadata": {
    "ExecuteTime": {
     "end_time": "2025-04-26T02:43:31.988373Z",
     "start_time": "2025-04-26T02:43:31.964540Z"
    }
   },
   "cell_type": "code",
   "source": [
    "import torch\n",
    "x=torch.randn(1,3,64,64)\n",
    "print(net(x))\n",
    "print(net(x).shape)"
   ],
   "id": "ec70012e18b2c87f",
   "outputs": [
    {
     "name": "stdout",
     "output_type": "stream",
     "text": [
      "tensor([[0.0000, 0.0000, 0.0962, 0.0000, 0.2683, 0.0000, 0.2248, 0.1872, 0.0710,\n",
      "         0.0000]], grad_fn=<ViewBackward0>)\n",
      "torch.Size([1, 10])\n"
     ]
    }
   ],
   "execution_count": 16
  },
  {
   "metadata": {
    "ExecuteTime": {
     "end_time": "2025-04-26T02:43:32.041583Z",
     "start_time": "2025-04-26T02:43:32.027263Z"
    }
   },
   "cell_type": "code",
   "source": [
    "for name, blk in net.named_children():\n",
    "    print(f\"名称: {name}, 模块类型: {blk}\")"
   ],
   "id": "4a8784d292998070",
   "outputs": [
    {
     "name": "stdout",
     "output_type": "stream",
     "text": [
      "名称: 0, 模块类型: Sequential(\n",
      "  (0): Conv2d(3, 96, kernel_size=(11, 11), stride=(4, 4))\n",
      "  (1): ReLU()\n",
      "  (2): Conv2d(96, 96, kernel_size=(1, 1), stride=(1, 1))\n",
      "  (3): ReLU()\n",
      "  (4): Conv2d(96, 96, kernel_size=(1, 1), stride=(1, 1))\n",
      "  (5): ReLU()\n",
      ")\n",
      "名称: 1, 模块类型: MaxPool2d(kernel_size=2, stride=2, padding=0, dilation=1, ceil_mode=False)\n",
      "名称: 2, 模块类型: Sequential(\n",
      "  (0): Conv2d(96, 256, kernel_size=(5, 5), stride=(1, 1), padding=(2, 2))\n",
      "  (1): ReLU()\n",
      "  (2): Conv2d(256, 256, kernel_size=(1, 1), stride=(1, 1))\n",
      "  (3): ReLU()\n",
      "  (4): Conv2d(256, 256, kernel_size=(1, 1), stride=(1, 1))\n",
      "  (5): ReLU()\n",
      ")\n",
      "名称: 3, 模块类型: MaxPool2d(kernel_size=2, stride=2, padding=0, dilation=1, ceil_mode=False)\n",
      "名称: 4, 模块类型: Sequential(\n",
      "  (0): Conv2d(256, 384, kernel_size=(3, 3), stride=(1, 1), padding=(1, 1))\n",
      "  (1): ReLU()\n",
      "  (2): Conv2d(384, 384, kernel_size=(1, 1), stride=(1, 1))\n",
      "  (3): ReLU()\n",
      "  (4): Conv2d(384, 384, kernel_size=(1, 1), stride=(1, 1))\n",
      "  (5): ReLU()\n",
      ")\n",
      "名称: 5, 模块类型: MaxPool2d(kernel_size=2, stride=2, padding=0, dilation=1, ceil_mode=False)\n",
      "名称: 6, 模块类型: Sequential(\n",
      "  (0): Conv2d(384, 10, kernel_size=(3, 3), stride=(1, 1), padding=(1, 1))\n",
      "  (1): ReLU()\n",
      "  (2): Conv2d(10, 10, kernel_size=(1, 1), stride=(1, 1))\n",
      "  (3): ReLU()\n",
      "  (4): Conv2d(10, 10, kernel_size=(1, 1), stride=(1, 1))\n",
      "  (5): ReLU()\n",
      ")\n",
      "名称: 7, 模块类型: GlobalAvgPool2d()\n",
      "名称: 8, 模块类型: Flatten(start_dim=1, end_dim=-1)\n"
     ]
    }
   ],
   "execution_count": 17
  },
  {
   "metadata": {
    "ExecuteTime": {
     "end_time": "2025-04-26T02:43:32.141520Z",
     "start_time": "2025-04-26T02:43:32.120443Z"
    }
   },
   "cell_type": "code",
   "source": [
    "for name,blk in net.named_children():\n",
    "    x=blk(x)\n",
    "    print(name,'output_size',x.shape)"
   ],
   "id": "d8fe470970979379",
   "outputs": [
    {
     "name": "stdout",
     "output_type": "stream",
     "text": [
      "0 output_size torch.Size([1, 96, 14, 14])\n",
      "1 output_size torch.Size([1, 96, 7, 7])\n",
      "2 output_size torch.Size([1, 256, 7, 7])\n",
      "3 output_size torch.Size([1, 256, 3, 3])\n",
      "4 output_size torch.Size([1, 384, 3, 3])\n",
      "5 output_size torch.Size([1, 384, 1, 1])\n",
      "6 output_size torch.Size([1, 10, 1, 1])\n",
      "7 output_size torch.Size([1, 10, 1, 1])\n",
      "8 output_size torch.Size([1, 10])\n"
     ]
    }
   ],
   "execution_count": 18
  },
  {
   "metadata": {
    "ExecuteTime": {
     "end_time": "2025-04-26T02:43:33.528491Z",
     "start_time": "2025-04-26T02:43:32.159879Z"
    }
   },
   "cell_type": "code",
   "source": [
    "data_transform = transforms.Compose([transforms.Resize(256),\n",
    "                                     transforms.CenterCrop(224),\n",
    "                                     transforms.ToTensor(),\n",
    "                                     transforms.Normalize(mean=[0.485, 0.456, 0.406],std = [0.229, 0.224, 0.225]) ])\n",
    "\n",
    "train_sets = datasets.CIFAR10(root='cifar_10', train=True, transform=data_transform, download=True)\n",
    "test_sets = datasets.CIFAR10(root='cifar_10', train=False, transform=data_transform, download=True)\n",
    "\n",
    "batch_size = 64\n",
    "\n",
    "train_loader = torch.utils.data.DataLoader(dataset = train_sets,batch_size = batch_size, shuffle = True)\n",
    "\n",
    "test_loader =  torch.utils.data.DataLoader(dataset = test_sets,batch_size = batch_size, shuffle = False)\n"
   ],
   "id": "e0b4b347a90ff9fb",
   "outputs": [],
   "execution_count": 19
  },
  {
   "metadata": {
    "ExecuteTime": {
     "end_time": "2025-04-26T02:43:33.569172Z",
     "start_time": "2025-04-26T02:43:33.561943Z"
    }
   },
   "cell_type": "code",
   "source": [
    "def evaluate_accuracy(data_iter,net):\n",
    "    acc_sum = 0\n",
    "    n = 0\n",
    "\n",
    "    net.eval()\n",
    "    for X,y in data_iter:\n",
    "        X = X.to(device)\n",
    "        y = y.to(device)\n",
    "        acc_sum += (net(X).argmax(dim = 1) == y).float().sum().item()\n",
    "\n",
    "        n += y.shape[0]\n",
    "    return acc_sum/n"
   ],
   "id": "56e974b68533143b",
   "outputs": [],
   "execution_count": 20
  },
  {
   "metadata": {
    "ExecuteTime": {
     "end_time": "2025-04-26T02:43:33.631255Z",
     "start_time": "2025-04-26T02:43:33.614099Z"
    }
   },
   "cell_type": "code",
   "source": [
    "def train(net,train_iter, test_iter,batch_size,optimizer,device, num_epochs):\n",
    "    net = net.to(device)\n",
    "    print(\"training on \",device)\n",
    "    loss = torch.nn.CrossEntropyLoss()\n",
    "    batch_count = 0\n",
    "    for epoch in range(num_epochs):\n",
    "        train_loss_sum , train_acc_sum , n , start = 0.0 , 0.0 , 0 , time.time()\n",
    "\n",
    "        net.train()\n",
    "        for X, y in train_iter:\n",
    "            X = X.to(device)\n",
    "            y = y.to(device)\n",
    "\n",
    "            y_hat = net(X)\n",
    "            l= loss(y_hat, y)\n",
    "\n",
    "            optimizer.zero_grad()\n",
    "            l.backward()\n",
    "            optimizer.step()\n",
    "\n",
    "            train_loss_sum += l.item()\n",
    "            train_acc_sum +=(y_hat.argmax(dim=1)==y).sum().cpu().item()\n",
    "            n += y.shape[0]\n",
    "            batch_count += 1\n",
    "\n",
    "        test_acc = evaluate_accuracy(test_iter,net)\n",
    "        print('epoch % d ,loss % .4f , train acc %.3f , test acc %.3f , time %.1f sec' %\n",
    "              (epoch+1,train_loss_sum/n,train_acc_sum/n,test_acc,time.time()-start))"
   ],
   "id": "8f6d73d06e4ec79e",
   "outputs": [],
   "execution_count": 21
  },
  {
   "metadata": {
    "jupyter": {
     "is_executing": true
    },
    "ExecuteTime": {
     "start_time": "2025-04-26T02:43:33.660890Z"
    }
   },
   "cell_type": "code",
   "source": [
    "train_iter = train_loader\n",
    "test_iter = test_loader\n",
    "lr = 0.001\n",
    "num_epochs = 30\n",
    "optimizer = torch.optim.Adam(net.parameters(), lr=lr)\n",
    "\n",
    "train(net,train_iter,test_iter,batch_size,optimizer,device,num_epochs )"
   ],
   "id": "8bf39efb92e0479e",
   "outputs": [
    {
     "name": "stdout",
     "output_type": "stream",
     "text": [
      "training on  cpu\n"
     training on  cpu
]
    }
   ],
   "execution_count": null
  }
 ],
 "metadata": {
  "kernelspec": {
   "display_name": "Python 3",
   "language": "python",
   "name": "python3"
  },
  "language_info": {
   "codemirror_mode": {
    "name": "ipython",
    "version": 2
   },
   "file_extension": ".py",
   "mimetype": "text/x-python",
   "name": "python",
   "nbconvert_exporter": "python",
   "pygments_lexer": "ipython2",
   "version": "2.7.6"
  }
 },
 "nbformat": 4,
 "nbformat_minor": 5
}
