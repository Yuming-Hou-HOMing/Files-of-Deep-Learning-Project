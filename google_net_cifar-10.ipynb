{
 "cells": [
  {
   "metadata": {},
   "cell_type": "markdown",
   "source": "调用所有的库",
   "id": "f353c727930e9b8"
  },
  {
   "metadata": {
    "collapsed": true,
    "ExecuteTime": {
     "end_time": "2025-05-01T10:07:58.299538Z",
     "start_time": "2025-05-01T10:07:51.607582Z"
    }
   },
   "cell_type": "code",
   "source": [
    "import numpy as np\n",
    "import torch\n",
    "import torch.nn as nn\n",
    "import torch.nn.functional as F\n",
    "import time\n",
    "\n",
    "from sympy.tensor.array.arrayop import Flatten\n",
    "from torch.utils.data import DataLoader\n",
    "from torchvision import datasets, transforms\n",
    "device = torch.device(\"cuda\") if torch.cuda.is_available() else torch.device(\"cpu\")"
   ],
   "id": "initial_id",
   "outputs": [],
   "execution_count": 1
  },
  {
   "metadata": {
    "ExecuteTime": {
     "end_time": "2025-05-01T10:07:58.326365Z",
     "start_time": "2025-05-01T10:07:58.316985Z"
    }
   },
   "cell_type": "code",
   "source": [
    "def nin_block(in_channel, out_channel, kernel_size, stride, padding):\n",
    "    blk = nn.Sequential(nn.Conv2d(in_channel,out_channel,kernel_size,stride,padding),\n",
    "                        nn.ReLU(),\n",
    "                        nn.Conv2d(out_channel,out_channel,kernel_size=1),\n",
    "                        nn.ReLU(),\n",
    "                        nn.Conv2d(out_channel,out_channel,kernel_size=1),\n",
    "                        nn.ReLU())\n",
    "    return blk\n"
   ],
   "id": "abe0efcabb387094",
   "outputs": [],
   "execution_count": 2
  },
  {
   "metadata": {
    "ExecuteTime": {
     "end_time": "2025-05-01T10:07:58.351748Z",
     "start_time": "2025-05-01T10:07:58.338420Z"
    }
   },
   "cell_type": "code",
   "source": [
    "class GlobalAvgPool2d(nn.Module):\n",
    "    def __init__(self):\n",
    "        super(GlobalAvgPool2d, self).__init__()\n",
    "    def forward(self,x):\n",
    "        return F.avg_pool2d(x,kernel_size = x.size()[2:])"
   ],
   "id": "3f9e48f24df494fe",
   "outputs": [],
   "execution_count": 3
  },
  {
   "metadata": {
    "ExecuteTime": {
     "end_time": "2025-05-01T10:07:58.571292Z",
     "start_time": "2025-05-01T10:07:58.549442Z"
    }
   },
   "cell_type": "code",
   "source": [
    "net = nn.Sequential(nin_block(3,96,11,4,0),\n",
    "                    nn.MaxPool2d(kernel_size=2, stride=2),\n",
    "\n",
    "                    nin_block(96,256,5,1,2),\n",
    "                    nn.MaxPool2d(kernel_size=2, stride=2),\n",
    "\n",
    "                    nin_block(256,384,3,1,1),\n",
    "                    nn.MaxPool2d(kernel_size=2, stride=2),\n",
    "\n",
    "                    nin_block(384,10,3,1,1),\n",
    "\n",
    "                    GlobalAvgPool2d(),#把四维的输出转换为二维形状 shape = （batch_size,10(标签数量))\n",
    "\n",
    "                    nn.Flatten())"
   ],
   "id": "e7e99be1619ae11b",
   "outputs": [],
   "execution_count": 4
  },
  {
   "metadata": {
    "ExecuteTime": {
     "end_time": "2025-05-01T10:07:58.693294Z",
     "start_time": "2025-05-01T10:07:58.632280Z"
    }
   },
   "cell_type": "code",
   "source": [
    "import torch\n",
    "x=torch.randn(1,3,64,64)\n",
    "print(net(x))\n",
    "print(net(x).shape)"
   ],
   "id": "ec70012e18b2c87f",
   "outputs": [
    {
     "name": "stdout",
     "output_type": "stream",
     "text": [
      "tensor([[0.0138, 0.2762, 0.0000, 0.0000, 0.0000, 0.0000, 0.1554, 0.0000, 0.0000,\n",
      "         0.2148]], grad_fn=<ViewBackward0>)\n",
      "torch.Size([1, 10])\n"
     ]
    }
   ],
   "execution_count": 5
  },
  {
   "metadata": {
    "ExecuteTime": {
     "end_time": "2025-05-01T10:07:58.738808Z",
     "start_time": "2025-05-01T10:07:58.725513Z"
    }
   },
   "cell_type": "code",
   "source": [
    "for name, blk in net.named_children():\n",
    "    print(f\"名称: {name}, 模块类型: {blk}\")"
   ],
   "id": "4a8784d292998070",
   "outputs": [
    {
     "name": "stdout",
     "output_type": "stream",
     "text": [
      "名称: 0, 模块类型: Sequential(\n",
      "  (0): Conv2d(3, 96, kernel_size=(11, 11), stride=(4, 4))\n",
      "  (1): ReLU()\n",
      "  (2): Conv2d(96, 96, kernel_size=(1, 1), stride=(1, 1))\n",
      "  (3): ReLU()\n",
      "  (4): Conv2d(96, 96, kernel_size=(1, 1), stride=(1, 1))\n",
      "  (5): ReLU()\n",
      ")\n",
      "名称: 1, 模块类型: MaxPool2d(kernel_size=2, stride=2, padding=0, dilation=1, ceil_mode=False)\n",
      "名称: 2, 模块类型: Sequential(\n",
      "  (0): Conv2d(96, 256, kernel_size=(5, 5), stride=(1, 1), padding=(2, 2))\n",
      "  (1): ReLU()\n",
      "  (2): Conv2d(256, 256, kernel_size=(1, 1), stride=(1, 1))\n",
      "  (3): ReLU()\n",
      "  (4): Conv2d(256, 256, kernel_size=(1, 1), stride=(1, 1))\n",
      "  (5): ReLU()\n",
      ")\n",
      "名称: 3, 模块类型: MaxPool2d(kernel_size=2, stride=2, padding=0, dilation=1, ceil_mode=False)\n",
      "名称: 4, 模块类型: Sequential(\n",
      "  (0): Conv2d(256, 384, kernel_size=(3, 3), stride=(1, 1), padding=(1, 1))\n",
      "  (1): ReLU()\n",
      "  (2): Conv2d(384, 384, kernel_size=(1, 1), stride=(1, 1))\n",
      "  (3): ReLU()\n",
      "  (4): Conv2d(384, 384, kernel_size=(1, 1), stride=(1, 1))\n",
      "  (5): ReLU()\n",
      ")\n",
      "名称: 5, 模块类型: MaxPool2d(kernel_size=2, stride=2, padding=0, dilation=1, ceil_mode=False)\n",
      "名称: 6, 模块类型: Sequential(\n",
      "  (0): Conv2d(384, 10, kernel_size=(3, 3), stride=(1, 1), padding=(1, 1))\n",
      "  (1): ReLU()\n",
      "  (2): Conv2d(10, 10, kernel_size=(1, 1), stride=(1, 1))\n",
      "  (3): ReLU()\n",
      "  (4): Conv2d(10, 10, kernel_size=(1, 1), stride=(1, 1))\n",
      "  (5): ReLU()\n",
      ")\n",
      "名称: 7, 模块类型: GlobalAvgPool2d()\n",
      "名称: 8, 模块类型: Flatten(start_dim=1, end_dim=-1)\n"
     ]
    }
   ],
   "execution_count": 6
  },
  {
   "metadata": {
    "ExecuteTime": {
     "end_time": "2025-05-01T10:07:58.792433Z",
     "start_time": "2025-05-01T10:07:58.776675Z"
    }
   },
   "cell_type": "code",
   "source": [
    "for name,blk in net.named_children():\n",
    "    x=blk(x)\n",
    "    print(name,'output_size',x.shape)"
   ],
   "id": "d8fe470970979379",
   "outputs": [
    {
     "name": "stdout",
     "output_type": "stream",
     "text": [
      "0 output_size torch.Size([1, 96, 14, 14])\n",
      "1 output_size torch.Size([1, 96, 7, 7])\n",
      "2 output_size torch.Size([1, 256, 7, 7])\n",
      "3 output_size torch.Size([1, 256, 3, 3])\n",
      "4 output_size torch.Size([1, 384, 3, 3])\n",
      "5 output_size torch.Size([1, 384, 1, 1])\n",
      "6 output_size torch.Size([1, 10, 1, 1])\n",
      "7 output_size torch.Size([1, 10, 1, 1])\n",
      "8 output_size torch.Size([1, 10])\n"
     ]
    }
   ],
   "execution_count": 7
  },
  {
   "metadata": {
    "ExecuteTime": {
     "end_time": "2025-05-01T10:08:00.518212Z",
     "start_time": "2025-05-01T10:07:58.811970Z"
    }
   },
   "cell_type": "code",
   "source": [
    "data_transform = transforms.Compose([transforms.Resize(256),\n",
    "                                     transforms.CenterCrop(224),\n",
    "                                     transforms.ToTensor(),\n",
    "                                     transforms.Normalize(mean=[0.485, 0.456, 0.406],std = [0.229, 0.224, 0.225]) ])\n",
    "\n",
    "train_sets = datasets.CIFAR10(root='cifar_10', train=True, transform=data_transform, download=True)\n",
    "test_sets = datasets.CIFAR10(root='cifar_10', train=False, transform=data_transform, download=True)\n",
    "\n",
    "batch_size = 64\n",
    "\n",
    "train_loader = torch.utils.data.DataLoader(dataset = train_sets,batch_size = batch_size, shuffle = True)\n",
    "\n",
    "test_loader =  torch.utils.data.DataLoader(dataset = test_sets,batch_size = batch_size, shuffle = False)\n"
   ],
   "id": "e0b4b347a90ff9fb",
   "outputs": [],
   "execution_count": 8
  },
  {
   "metadata": {
    "ExecuteTime": {
     "end_time": "2025-05-01T10:08:00.537883Z",
     "start_time": "2025-05-01T10:08:00.531998Z"
    }
   },
   "cell_type": "code",
   "source": [
    "def evaluate_accuracy(data_iter,net):\n",
    "    acc_sum = 0\n",
    "    n = 0\n",
    "\n",
    "    net.eval()\n",
    "    for X,y in data_iter:\n",
    "        X = X.to(device)\n",
    "        y = y.to(device)\n",
    "        acc_sum += (net(X).argmax(dim = 1) == y).float().sum().item()\n",
    "\n",
    "        n += y.shape[0]\n",
    "    return acc_sum/n"
   ],
   "id": "56e974b68533143b",
   "outputs": [],
   "execution_count": 9
  },
  {
   "metadata": {
    "ExecuteTime": {
     "end_time": "2025-05-01T10:08:00.562044Z",
     "start_time": "2025-05-01T10:08:00.552061Z"
    }
   },
   "cell_type": "code",
   "source": [
    "def train(net,train_iter, test_iter,batch_size,optimizer,device, num_epochs):\n",
    "    net = net.to(device)\n",
    "    print(\"training on \",device)\n",
    "    loss = torch.nn.CrossEntropyLoss()\n",
    "    batch_count = 0\n",
    "    for epoch in range(num_epochs):\n",
    "        train_loss_sum , train_acc_sum , n , start = 0.0 , 0.0 , 0 , time.time()\n",
    "\n",
    "        net.train()\n",
    "        for X, y in train_iter:\n",
    "            X = X.to(device)\n",
    "            y = y.to(device)\n",
    "\n",
    "            y_hat = net(X)\n",
    "            l= loss(y_hat, y)\n",
    "\n",
    "            optimizer.zero_grad()\n",
    "            l.backward()\n",
    "            optimizer.step()\n",
    "\n",
    "            train_loss_sum += l.item()\n",
    "            train_acc_sum +=(y_hat.argmax(dim=1)==y).sum().cpu().item()\n",
    "            n += y.shape[0]\n",
    "            batch_count += 1\n",
    "\n",
    "        test_acc = evaluate_accuracy(test_iter,net)\n",
    "        print('epoch % d ,loss % .4f , train acc %.3f , test acc %.3f , time %.1f sec' %\n",
    "              (epoch+1,train_loss_sum/n,train_acc_sum/n,test_acc,time.time()-start))"
   ],
   "id": "8f6d73d06e4ec79e",
   "outputs": [],
   "execution_count": 10
  },
  {
   "metadata": {
    "jupyter": {
     "is_executing": true
    },
    "ExecuteTime": {
     "start_time": "2025-05-01T10:08:00.576573Z"
    }
   },
   "cell_type": "code",
   "source": [
    "train_iter = train_loader\n",
    "test_iter = test_loader\n",
    "lr = 0.001\n",
    "num_epochs = 5\n",
    "optimizer = torch.optim.Adam(net.parameters(), lr=lr)\n",
    "\n",
    "train(net,train_iter,test_iter,batch_size,optimizer,device,num_epochs )"
   ],
   "id": "8bf39efb92e0479e",
   "outputs": [
    {
     "name": "stdout",
     "output_type": "stream",
     "text": [
      "training on  cpu\n"
     ]
    }
   ],
   "execution_count": null
  },
  {
   "metadata": {
    "ExecuteTime": {
     "end_time": "2025-04-27T12:29:13.195021200Z",
     "start_time": "2025-04-27T10:05:04.785059Z"
    }
   },
   "cell_type": "code",
   "source": [
    "import torch\n",
    "import torch.nn as nn\n",
    "import torch.nn.functional as F\n",
    "\n",
    "class Inception(nn.Module):\n",
    "    def __init__(self, in_channel, c1, c2, c3, c4):\n",
    "        super(Inception, self).__init__()\n",
    "        self.p1_1 = nn.Conv2d(in_channel, c1, kernel_size=1)\n",
    "\n",
    "        self.p2_1 = nn.Conv2d(in_channel, c2[0], kernel_size=1)\n",
    "        self.p2_2 = nn.Conv2d(c2[0], c2[1], kernel_size=3, padding=1)\n",
    "\n",
    "        self.p3_1 = nn.Conv2d(in_channel, c3[0], kernel_size=1)\n",
    "        self.p3_2 = nn.Conv2d(c3[0], c3[1], kernel_size=5, padding=2)\n",
    "\n",
    "        self.p4_1 = nn.MaxPool2d(kernel_size=3, stride=1, padding=1)\n",
    "        self.p4_2 = nn.Conv2d(in_channel, c4, kernel_size=1)\n",
    "\n",
    "    def forward(self, x):\n",
    "        p1 = self.p1_1(x)\n",
    "        p1 = F.relu(p1)\n",
    "\n",
    "        p2 = self.p2_1(x)\n",
    "        p2 = F.relu(p2)\n",
    "        p2 = self.p2_2(p2)\n",
    "        p2 = F.relu(p2)\n",
    "\n",
    "        p3 = self.p3_1(x)\n",
    "        p3 = F.relu(p3)\n",
    "        p3 = self.p3_2(p3)\n",
    "        p3 = F.relu(p3)\n",
    "\n",
    "        p4 = self.p4_1(x)\n",
    "        p4 = F.relu(p4)\n",
    "        p4 = self.p4_2(p4)\n",
    "        p4 = F.relu(p4)\n",
    "\n",
    "        return torch.cat((p1, p2, p3, p4), 1)\n",
    "\n",
    "b1 = nn.Sequential(\n",
    "    nn.Conv2d(3, 128, kernel_size=7, stride=2, padding=3),\n",
    "    nn.ReLU(),\n",
    "    nn.MaxPool2d(kernel_size=3, stride=2, padding=1)\n",
    ")\n",
    "\n",
    "b2 = nn.Sequential(\n",
    "    nn.Conv2d(128, 128, kernel_size=1),\n",
    "    nn.ReLU(),\n",
    "    nn.Conv2d(128, 192, kernel_size=3, padding=1),\n",
    "    nn.ReLU(),\n",
    "    nn.MaxPool2d(kernel_size=3, stride=2, padding=1)\n",
    ")\n",
    "\n",
    "b3 = nn.Sequential(\n",
    "    # 输出通道数: 64 + 128 + 32 + 32 = 256\n",
    "    Inception(192, 64, (96, 128), (16, 32), 32),\n",
    "    # 输出通道数: 128 + 192 + 96 + 64 = 480\n",
    "    Inception(256, 128, (128, 192), (32, 96), 64),\n",
    "    nn.MaxPool2d(kernel_size=3, stride=2, padding=1)\n",
    ")\n",
    "\n",
    "b4 = nn.Sequential(\n",
    "    # 输出通道数: 192 + 208 + 48 + 64 = 512\n",
    "    Inception(480, 192, (96, 208), (16, 48), 64),\n",
    "    # 输出通道数: 160 + 224 + 64 + 64 = 512\n",
    "    Inception(512, 160, (112, 224), (24, 64), 64),\n",
    "    # 输出通道数: 128 + 256 + 64 + 64 = 512\n",
    "    Inception(512, 128, (128, 256), (24, 64), 64),\n",
    "    # 输出通道数: 112 + 288 + 64 + 64 = 528\n",
    "    Inception(512, 112, (144, 288), (32, 64), 64),\n",
    "    # 输出通道数: 256 + 320 + 128 + 128 = 832\n",
    "    Inception(528, 256, (160, 320), (32, 128), 128),\n",
    "    nn.MaxPool2d(kernel_size=3, stride=2, padding=1)\n",
    ")\n",
    "\n",
    "b5 = nn.Sequential(\n",
    "    # 输出通道数: 256 + 320 + 128 + 128 = 832\n",
    "    Inception(832, 256, (160, 320), (32, 128), 128),\n",
    "    # 输出通道数: 384 + 384 + 128 + 128 = 1024\n",
    "    Inception(832, 384, (192, 384), (48, 128), 128),\n",
    "    nn.AdaptiveAvgPool2d((1, 1)),\n",
    "    nn.Flatten()\n",
    ")\n",
    "\n",
    "netg = nn.Sequential(b1, b2, b3, b4, b5, nn.Linear(1024, 10))\n",
    "\n",
    "X = torch.rand(size=(1, 3, 224, 224))\n",
    "for layer in netg:\n",
    "    try:\n",
    "        X = layer(X)\n",
    "        print(layer.__class__.__name__, \"output shape:\\t\", X.shape)\n",
    "    except Exception as e:\n",
    "        print(f\"Error in layer {layer.__class__.__name__}: {e}\")\n"
   ],
   "id": "e566bc2ed17f536c",
   "outputs": [
    {
     "name": "stdout",
     "output_type": "stream",
     "text": [
      "Sequential output shape:\t torch.Size([1, 128, 56, 56])\n",
      "Sequential output shape:\t torch.Size([1, 192, 28, 28])\n",
      "Sequential output shape:\t torch.Size([1, 480, 14, 14])\n",
      "Sequential output shape:\t torch.Size([1, 832, 7, 7])\n",
      "Sequential output shape:\t torch.Size([1, 1024])\n",
      "Linear output shape:\t torch.Size([1, 10])\n"
     ]
    }
   ],
   "execution_count": 27
  },
  {
   "metadata": {
    "ExecuteTime": {
     "end_time": "2025-04-27T12:29:13.195021200Z",
     "start_time": "2025-04-27T10:05:27.367085Z"
    }
   },
   "cell_type": "code",
   "source": [
    "data_transform = transforms.Compose([transforms.Resize(256),\n",
    "                                     transforms.CenterCrop(224),\n",
    "                                     transforms.ToTensor(),\n",
    "                                     transforms.Normalize(mean=[0.485, 0.456, 0.406],std = [0.229, 0.224, 0.225]) ])\n",
    "\n",
    "train_sets = datasets.CIFAR10(root='cifar_10', train=True, transform=data_transform, download=True)\n",
    "test_sets = datasets.CIFAR10(root='cifar_10', train=False, transform=data_transform, download=True)\n",
    "\n",
    "batch_size = 64\n",
    "\n",
    "train_loader = torch.utils.data.DataLoader(dataset = train_sets,batch_size = batch_size, shuffle = True)\n",
    "\n",
    "test_loader =  torch.utils.data.DataLoader(dataset = test_sets,batch_size = batch_size, shuffle = False)"
   ],
   "id": "7f292f6eb60e2e11",
   "outputs": [],
   "execution_count": 28
  },
  {
   "metadata": {
    "ExecuteTime": {
     "end_time": "2025-04-27T12:29:13.195021200Z",
     "start_time": "2025-04-27T10:05:32.527651Z"
    }
   },
   "cell_type": "code",
   "source": [
    "def train(net,train_iter, test_iter,batch_size,optimizer,device, num_epochs):\n",
    "    net = net.to(device)\n",
    "    print(\"training on \",device)\n",
    "    loss = torch.nn.CrossEntropyLoss()\n",
    "    batch_count = 0\n",
    "    for epoch in range(num_epochs):\n",
    "        train_loss_sum , train_acc_sum , n , start = 0.0 , 0.0 , 0 , time.time()\n",
    "\n",
    "        net.train()\n",
    "        for X, y in train_iter:\n",
    "            X = X.to(device)\n",
    "            y = y.to(device)\n",
    "\n",
    "            y_hat = net(X)\n",
    "            l= loss(y_hat, y)\n",
    "\n",
    "            optimizer.zero_grad()\n",
    "            l.backward()\n",
    "            optimizer.step()\n",
    "\n",
    "            train_loss_sum += l.item()\n",
    "            train_acc_sum +=(y_hat.argmax(dim=1)==y).sum().cpu().item()\n",
    "            n += y.shape[0]\n",
    "            batch_count += 1\n",
    "\n",
    "        test_acc = evaluate_accuracy(test_iter,net)\n",
    "        print('epoch % d ,loss % .4f , train acc %.3f , test acc %.3f , time %.1f sec' %\n",
    "              (epoch+1,train_loss_sum/n,train_acc_sum/n,test_acc,time.time()-start))"
   ],
   "id": "ead3ae29c54121d8",
   "outputs": [],
   "execution_count": 29
  },
  {
   "metadata": {
    "ExecuteTime": {
     "end_time": "2025-04-27T12:29:13.196017600Z",
     "start_time": "2025-04-27T10:05:36.261198Z"
    }
   },
   "cell_type": "code",
   "source": [
    "train_iter = train_loader\n",
    "test_iter = test_loader\n",
    "lr = 0.001\n",
    "num_epochs = 10\n",
    "optimizer = torch.optim.Adam(net.parameters(), lr=lr)\n",
    "\n",
    "train(netg,train_iter,test_iter,batch_size,optimizer,device,num_epochs )"
   ],
   "id": "2fd94476000af0da",
   "outputs": [
    {
     "name": "stdout",
     "output_type": "stream",
     "text": [
      "training on  cpu\n"
     ]
    }
   ],
   "execution_count": null
  },
  {
   "metadata": {},
   "cell_type": "code",
   "outputs": [],
   "execution_count": null,
   "source": "",
   "id": "f1e40834aacb301c"
  }
 ],
 "metadata": {
  "kernelspec": {
   "display_name": "Python 3",
   "language": "python",
   "name": "python3"
  },
  "language_info": {
   "codemirror_mode": {
    "name": "ipython",
    "version": 2
   },
   "file_extension": ".py",
   "mimetype": "text/x-python",
   "name": "python",
   "nbconvert_exporter": "python",
   "pygments_lexer": "ipython2",
   "version": "2.7.6"
  }
 },
 "nbformat": 4,
 "nbformat_minor": 5
}
